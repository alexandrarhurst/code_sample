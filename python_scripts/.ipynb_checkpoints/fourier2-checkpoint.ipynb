{
 "cells": [
  {
   "cell_type": "code",
   "execution_count": 4,
   "metadata": {},
   "outputs": [],
   "source": [
    "import scipy as sp\n",
    "from scipy.io import wavfile\n",
    "from scipy.fftpack import fft, ifft\n",
    "from scipy import signal\n",
    "import numpy as np\n",
    "from matplotlib import pyplot as plt\n",
    "import IPython\n",
    "%matplotlib inline\n"
   ]
  },
  {
   "cell_type": "code",
   "execution_count": 5,
   "metadata": {
    "collapsed": true
   },
   "outputs": [],
   "source": [
    "class Signal(object):\n",
    "    \n",
    "    def __init__(self, rate, sample):\n",
    "        \"\"\"This makes the code light on fire.\n",
    "        rate: rate of the sample\n",
    "        sample: array of samples\"\"\"\n",
    "        self.rate=rate\n",
    "        self.sample=sample\n",
    "        \n",
    "\n",
    "    def plot(self):\n",
    "        \"\"\"This makes Koa light on fire.\"\"\"\n",
    "        x=np.linspace(0,len(self.sample)/self.rate, len(self.sample))\n",
    "        plt.subplot(121)\n",
    "        plt.plot(x, self.sample)\n",
    "        dft=sp.fft(self.sample)\n",
    "        x_vals=sp.arange(1, len(dft)+1, 1)*1.\n",
    "        x_vals=x_vals/len(self.sample)\n",
    "        xvals=x_vals*rate\n",
    "        plt.subplot(122)\n",
    "        plt.plot(x_vals, dft)\n",
    "        plt.show()\n",
    "        \n",
    "  \n",
    "    def export(self, filename):\n",
    "        samples=sp.int16(self.sample/sp.absolute(self.sample).max()*32767)\n",
    "        wavfile.write(filename, self.rate, samples)\n",
    "        \n",
    "        \n",
    "def note_generator(samplerate, frequency):\n",
    "    stepsize=1./samplerate\n",
    "    sample_points=sp.arange(0, 5,stepsize)\n",
    "    wave_function=lambda x:sp.sin(2*sp.pi*x*frequency)\n",
    "    samples=wave_function(sample_points)\n",
    "    return Signal(samplerate, samples)"
   ]
  },
  {
   "cell_type": "code",
   "execution_count": 6,
   "metadata": {},
   "outputs": [
    {
     "name": "stderr",
     "output_type": "stream",
     "text": [
      "/Users/alexandragreenwood/anaconda3/lib/python3.6/site-packages/numpy/core/numeric.py:531: ComplexWarning: Casting complex values to real discards the imaginary part\n",
      "  return array(a, dtype, copy=False, order=order)\n"
     ]
    },
    {
     "data": {
      "image/png": "[encoded data removed]",
      "text/plain": [
       "<matplotlib.figure.Figure at 0x116a18780>"
      ]
     },
     "metadata": {},
     "output_type": "display_data"
    }
   ],
   "source": [
    "#problem 1\n",
    "rate, data=wavfile.read('Noisysignal2.wav')\n",
    "signal=Signal(rate, data)\n",
    "signal.plot()\n",
    "\n"
   ]
  },
  {
   "cell_type": "code",
   "execution_count": 8,
   "metadata": {},
   "outputs": [],
   "source": [
    "fsig=sp.fft(data, axis=0)\n",
    "for j in range(14000, 200000):\n",
    "        fsig[j]=0\n",
    "        fsig[-j]=0\n",
    "newsig=sp.ifft(fsig)\n",
    "newsig=sp.real(newsig)\n",
    "newsig=sp.int16(newsig/sp.absolute(newsig).max()*32767)\n"
   ]
  },
  {
   "cell_type": "code",
   "execution_count": 10,
   "metadata": {},
   "outputs": [
    {
     "name": "stdout",
     "output_type": "stream",
     "text": [
      "The audio is JFK\n"
     ]
    }
   ],
   "source": [
    "wavfile.write(\"newsig.wav\", rate, newsig)\n",
    "\n",
    "print(\"The audio is JFK\")"
   ]
  },
  {
   "cell_type": "code",
   "execution_count": null,
   "metadata": {
    "scrolled": true
   },
   "outputs": [],
   "source": [
    "#problem 3\n",
    "rate, data=wavfile.read(\"chopin.wav\")\n",
    "silence=note_generator(44100, 0)\n",
    "added=np.hstack([data, np.zeros(4*rate)])\n",
    "rate1, data1=wavfile.read(\"balloon.wav\")\n",
    "temp=fft(data1)\n",
    "response=np.hstack([temp[0:len(temp)/2],np.zeros(len(added)-len(temp)),temp[len(temp)/2:]])\n",
    "finale=fft(added)*response\n",
    "finale=ifft(finale)\n",
    "finale=Signal(rate, finale)\n",
    "finale.plot()\n",
    "finale.export(\"newchopin1.wav\")\n",
    "IPython.display.Audio(\"newchopin1.wav\")"
   ]
  },
  {
   "cell_type": "code",
   "execution_count": null,
   "metadata": {},
   "outputs": [],
   "source": [
    "rate, data=wavfile.read(\"newsig.wav\")\n",
    "sig=Signal(rate, data)\n",
    "sig.plot()"
   ]
  },
  {
   "cell_type": "code",
   "execution_count": null,
   "metadata": {},
   "outputs": [],
   "source": [
    "#problem 4\n",
    "\n",
    "samplerate=22050\n",
    "noise=sp.int16(sp.random.randint(-32767, 32767, samplerate*10))\n",
    "noise=Signal(samplerate, noise)\n",
    "noise.export(\"noise.wav\")\n",
    "IPython.display.Audio(\"noise.wav\")"
   ]
  },
  {
   "cell_type": "code",
   "execution_count": null,
   "metadata": {
    "collapsed": true
   },
   "outputs": [],
   "source": []
  }
 ],
 "metadata": {
  "anaconda-cloud": {},
  "kernelspec": {
   "display_name": "Python 3",
   "language": "python",
   "name": "python3"
  },
  "language_info": {
   "codemirror_mode": {
    "name": "ipython",
    "version": 3
   },
   "file_extension": ".py",
   "mimetype": "text/x-python",
   "name": "python",
   "nbconvert_exporter": "python",
   "pygments_lexer": "ipython3",
   "version": "3.6.4"
  }
 },
 "nbformat": 4,
 "nbformat_minor": 1
}
