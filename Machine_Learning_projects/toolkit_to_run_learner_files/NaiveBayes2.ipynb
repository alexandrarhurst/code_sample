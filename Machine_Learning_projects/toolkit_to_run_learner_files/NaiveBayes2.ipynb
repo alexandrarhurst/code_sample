{
 "cells": [
  {
   "cell_type": "code",
   "execution_count": 88,
   "metadata": {},
   "outputs": [],
   "source": [
    "import numpy as np\n",
    "import pandas as pd\n",
    "import json\n",
    "from sklearn.naive_bayes import MultinomialNB\n",
    "from sklearn.model_selection import train_test_split\n",
    "from sklearn.linear_model import LogisticRegression\n",
    "from sklearn.svm import SVC\n",
    "from sklearn import datasets\n",
    "from sklearn import metrics\n",
    "from matplotlib import pyplot as plt"
   ]
  },
  {
   "cell_type": "markdown",
   "metadata": {},
   "source": [
    "Alexandra Hurst\n",
    "# Problem 1\n",
    "Find some aspect of your final research project where a naïve Bayes classifier is appropriate, and apply Naive Bayes to that.  Compare the result to what logistic regression and support vector machines give you on the same data. \n",
    "\n",
    "My dataset is currently made up of around 25000 yelp restaurant summaries. An example of the dataset attributes I'm using is provided below. The goal is to use those attributes to predict how many stars a restaurant got on yelp."
   ]
  },
  {
   "cell_type": "code",
   "execution_count": 59,
   "metadata": {},
   "outputs": [],
   "source": [
    "yelp = []\n",
    "yelp_pd = pd.DataFrame({'name' : [], 'casual' : [],'divey' : [],'hipster' : [],'intimate' : [],'romantic' : [],'touristy' : [],\\\n",
    "                        'trendy' : [],'upscale' : [],'RestaurantsAttire' : [],\\\n",
    "                         'RestaurantsDelivery' : [], 'RestaurantsReservations' : [], 'RestaurantsTakeout' : [],\\\n",
    "                        'stars' : []})\n",
    "for line in open('dataset/business.json', 'r'):\n",
    "    business=json.loads(line)\n",
    "    if 'Restaurants' in business['categories']:\n",
    "        yelp.append(business)\n",
    "        try:\n",
    "            yelp_pd = yelp_pd.append({'name' : business['name'], 'casual' : business['attributes']['Ambience']['casual'],'divey' : business['attributes']['Ambience']['divey'],'hipster' : business['attributes']['Ambience']['hipster'],'intimate' : business['attributes']['Ambience']['intimate'],'romantic' : business['attributes']['Ambience']['romantic']\\\n",
    "                                 ,'touristy' : business['attributes']['Ambience']['touristy'],\\\n",
    "                        'trendy' : business['attributes']['Ambience']['trendy'],'upscale' : business['attributes']['Ambience']['trendy'],'RestaurantsAttire' : business['attributes']['RestaurantsAttire'],\\\n",
    "                         'RestaurantsDelivery' : business['attributes']['RestaurantsDelivery'], 'RestaurantsReservations' : business['attributes']['RestaurantsReservations'], 'RestaurantsTakeout' : business['attributes']['RestaurantsTakeOut'],\\\n",
    "                        'stars' : business['stars']}, ignore_index=True)\n",
    "        except:\n",
    "            pass\n",
    "        "
   ]
  },
  {
   "cell_type": "code",
   "execution_count": 77,
   "metadata": {},
   "outputs": [
    {
     "data": {
      "text/html": [
       "<div>\n",
       "<style scoped>\n",
       "    .dataframe tbody tr th:only-of-type {\n",
       "        vertical-align: middle;\n",
       "    }\n",
       "\n",
       "    .dataframe tbody tr th {\n",
       "        vertical-align: top;\n",
       "    }\n",
       "\n",
       "    .dataframe thead th {\n",
       "        text-align: right;\n",
       "    }\n",
       "</style>\n",
       "<table border=\"1\" class=\"dataframe\">\n",
       "  <thead>\n",
       "    <tr style=\"text-align: right;\">\n",
       "      <th></th>\n",
       "      <th>RestaurantsAttire</th>\n",
       "      <th>RestaurantsDelivery</th>\n",
       "      <th>RestaurantsReservations</th>\n",
       "      <th>RestaurantsTakeout</th>\n",
       "      <th>casual</th>\n",
       "      <th>divey</th>\n",
       "      <th>hipster</th>\n",
       "      <th>intimate</th>\n",
       "      <th>name</th>\n",
       "      <th>romantic</th>\n",
       "      <th>stars</th>\n",
       "      <th>touristy</th>\n",
       "      <th>trendy</th>\n",
       "      <th>upscale</th>\n",
       "    </tr>\n",
       "  </thead>\n",
       "  <tbody>\n",
       "    <tr>\n",
       "      <th>24074</th>\n",
       "      <td>0</td>\n",
       "      <td>0.0</td>\n",
       "      <td>0.0</td>\n",
       "      <td>1.0</td>\n",
       "      <td>1.0</td>\n",
       "      <td>0.0</td>\n",
       "      <td>0.0</td>\n",
       "      <td>0.0</td>\n",
       "      <td>Buffalo Wild Wings</td>\n",
       "      <td>0.0</td>\n",
       "      <td>4</td>\n",
       "      <td>0.0</td>\n",
       "      <td>0.0</td>\n",
       "      <td>0.0</td>\n",
       "    </tr>\n",
       "    <tr>\n",
       "      <th>23762</th>\n",
       "      <td>0</td>\n",
       "      <td>0.0</td>\n",
       "      <td>1.0</td>\n",
       "      <td>1.0</td>\n",
       "      <td>1.0</td>\n",
       "      <td>0.0</td>\n",
       "      <td>0.0</td>\n",
       "      <td>0.0</td>\n",
       "      <td>Bootleggers Modern American Smokehouse</td>\n",
       "      <td>0.0</td>\n",
       "      <td>8</td>\n",
       "      <td>0.0</td>\n",
       "      <td>0.0</td>\n",
       "      <td>0.0</td>\n",
       "    </tr>\n",
       "    <tr>\n",
       "      <th>285</th>\n",
       "      <td>0</td>\n",
       "      <td>0.0</td>\n",
       "      <td>0.0</td>\n",
       "      <td>0.0</td>\n",
       "      <td>1.0</td>\n",
       "      <td>0.0</td>\n",
       "      <td>0.0</td>\n",
       "      <td>0.0</td>\n",
       "      <td>I Roll Thai Ice Cream</td>\n",
       "      <td>0.0</td>\n",
       "      <td>8</td>\n",
       "      <td>0.0</td>\n",
       "      <td>0.0</td>\n",
       "      <td>0.0</td>\n",
       "    </tr>\n",
       "    <tr>\n",
       "      <th>23949</th>\n",
       "      <td>0</td>\n",
       "      <td>0.0</td>\n",
       "      <td>1.0</td>\n",
       "      <td>1.0</td>\n",
       "      <td>0.0</td>\n",
       "      <td>1.0</td>\n",
       "      <td>0.0</td>\n",
       "      <td>0.0</td>\n",
       "      <td>Jimmy Hula's</td>\n",
       "      <td>0.0</td>\n",
       "      <td>8</td>\n",
       "      <td>0.0</td>\n",
       "      <td>0.0</td>\n",
       "      <td>0.0</td>\n",
       "    </tr>\n",
       "    <tr>\n",
       "      <th>12071</th>\n",
       "      <td>0</td>\n",
       "      <td>0.0</td>\n",
       "      <td>1.0</td>\n",
       "      <td>1.0</td>\n",
       "      <td>1.0</td>\n",
       "      <td>0.0</td>\n",
       "      <td>0.0</td>\n",
       "      <td>0.0</td>\n",
       "      <td>The Olive Mediterranean Grill</td>\n",
       "      <td>0.0</td>\n",
       "      <td>8</td>\n",
       "      <td>0.0</td>\n",
       "      <td>0.0</td>\n",
       "      <td>0.0</td>\n",
       "    </tr>\n",
       "  </tbody>\n",
       "</table>\n",
       "</div>"
      ],
      "text/plain": [
       "       RestaurantsAttire  RestaurantsDelivery  RestaurantsReservations  \\\n",
       "24074                  0                  0.0                      0.0   \n",
       "23762                  0                  0.0                      1.0   \n",
       "285                    0                  0.0                      0.0   \n",
       "23949                  0                  0.0                      1.0   \n",
       "12071                  0                  0.0                      1.0   \n",
       "\n",
       "       RestaurantsTakeout  casual  divey  hipster  intimate  \\\n",
       "24074                 1.0     1.0    0.0      0.0       0.0   \n",
       "23762                 1.0     1.0    0.0      0.0       0.0   \n",
       "285                   0.0     1.0    0.0      0.0       0.0   \n",
       "23949                 1.0     0.0    1.0      0.0       0.0   \n",
       "12071                 1.0     1.0    0.0      0.0       0.0   \n",
       "\n",
       "                                         name  romantic  stars  touristy  \\\n",
       "24074                      Buffalo Wild Wings       0.0      4       0.0   \n",
       "23762  Bootleggers Modern American Smokehouse       0.0      8       0.0   \n",
       "285                     I Roll Thai Ice Cream       0.0      8       0.0   \n",
       "23949                            Jimmy Hula's       0.0      8       0.0   \n",
       "12071           The Olive Mediterranean Grill       0.0      8       0.0   \n",
       "\n",
       "       trendy  upscale  \n",
       "24074     0.0      0.0  \n",
       "23762     0.0      0.0  \n",
       "285       0.0      0.0  \n",
       "23949     0.0      0.0  \n",
       "12071     0.0      0.0  "
      ]
     },
     "execution_count": 77,
     "metadata": {},
     "output_type": "execute_result"
    }
   ],
   "source": [
    "yelp_pd.sample(5)"
   ]
  },
  {
   "cell_type": "code",
   "execution_count": 65,
   "metadata": {
    "collapsed": true
   },
   "outputs": [],
   "source": [
    "yelp_pd['stars'] = 2*yelp_pd['stars'].astype(int)"
   ]
  },
  {
   "cell_type": "code",
   "execution_count": 76,
   "metadata": {},
   "outputs": [
    {
     "name": "stdout",
     "output_type": "stream",
     "text": [
      "Accuracy score for Naive Bayes:  0.461660755778\n",
      "Accuracy score for LogRes:  0.462761403938\n",
      "Accuracy score for SVM:  0.460437813379\n"
     ]
    }
   ],
   "source": [
    "X_train, X_test, y_train, y_test = train_test_split(yelp_pd.drop('stars', axis=1).drop('name', axis=1), yelp_pd['stars'], test_size=0.33, random_state=42)\n",
    "\n",
    "\n",
    "clf = MultinomialNB()\n",
    "clf.fit(X_train, y_train)\n",
    "print(\"Accuracy score for Naive Bayes: \", clf.score(X_test, y_test))\n",
    "\n",
    "lr = LogisticRegression(multi_class='multinomial',solver ='newton-cg')\n",
    "lr.fit(X_train, y_train)\n",
    "print(\"Accuracy score for LogRes: \", lr.score(X_test, y_test))\n",
    "\n",
    "clf = SVC()\n",
    "clf.fit(X_train, y_train) \n",
    "print(\"Accuracy score for SVM: \", clf.score(X_test, y_test))"
   ]
  },
  {
   "cell_type": "markdown",
   "metadata": {},
   "source": [
    "### Conclusion\n",
    "There is a weak correlation between the attributes given and the number of stars someone gives it. It is enough to predict correctly about half the time, which means this feature could be used to predict where someone would want to go based on their past choices."
   ]
  },
  {
   "cell_type": "markdown",
   "metadata": {},
   "source": [
    "# Problem 2\n",
    "Plot the ROC (scikit-learn has an ROC function you can use) for the following classifiers on the scilit-learn cancer dataset with\n",
    "    naïve Bayes,\n",
    "    logistic regression, and\n",
    "    support vector machines (with probabilities, not just classification)"
   ]
  },
  {
   "cell_type": "code",
   "execution_count": 82,
   "metadata": {},
   "outputs": [],
   "source": [
    "cancer = datasets.load_breast_cancer()\n",
    "X = cancer.data\n",
    "y = cancer.target\n",
    "X_train, X_test, y_train, y_test = train_test_split(X, y, test_size=.5,random_state=0)"
   ]
  },
  {
   "cell_type": "code",
   "execution_count": 94,
   "metadata": {},
   "outputs": [
    {
     "data": {
      "image/png": "[encoded data removed]",
      "text/plain": [
       "<matplotlib.figure.Figure at 0x1eb09b4e0>"
      ]
     },
     "metadata": {},
     "output_type": "display_data"
    }
   ],
   "source": [
    "clf = MultinomialNB()\n",
    "clf.fit(X_train, y_train)\n",
    "probs = clf.predict_proba(X_test)\n",
    "preds = probs[:,1]\n",
    "fpr, tpr, threshold = metrics.roc_curve(y_test, preds)\n",
    "roc_auc = metrics.auc(fpr, tpr)\n",
    "plt.plot(fpr, tpr, 'y', label = 'Bayes AUC = %0.2f' % roc_auc)\n",
    "plt.plot([0, 1], [0, 1],'r--')\n",
    "plt.xlim([0, 1])\n",
    "plt.ylim([0, 1])\n",
    "\n",
    "\n",
    "lr = LogisticRegression(multi_class='multinomial',solver ='newton-cg')\n",
    "lr.fit(X_train, y_train)\n",
    "probs = lr.predict_proba(X_test)\n",
    "preds = probs[:,1]\n",
    "fpr, tpr, threshold = metrics.roc_curve(y_test, preds)\n",
    "roc_auc = metrics.auc(fpr, tpr)\n",
    "plt.plot(fpr, tpr, 'b', label = 'LogRes AUC = %0.2f' % roc_auc)\n",
    "\n",
    "clf = SVC(probability=True)\n",
    "clf.fit(X_train, y_train)\n",
    "probs = clf.predict_proba(X_test)\n",
    "preds = probs[:,1]\n",
    "fpr, tpr, threshold = metrics.roc_curve(y_test, preds)\n",
    "roc_auc = metrics.auc(fpr, tpr)\n",
    "plt.title('Receiver Operating Characteristic')\n",
    "plt.plot(fpr, tpr, 'g', label = 'SVM AUC = %0.2f' % roc_auc)\n",
    "plt.legend(loc = 'upper right')\n",
    "plt.plot([0, 1], [0, 1],'r--')\n",
    "plt.xlim([0, 1])\n",
    "plt.ylim([0, 1])\n",
    "plt.ylabel('True Positive Rate')\n",
    "plt.xlabel('False Positive Rate')\n",
    "plt.show()"
   ]
  },
  {
   "cell_type": "markdown",
   "metadata": {},
   "source": [
    "# Problem 3\n",
    "Describe an appropriate cost function of the form a*FPR + b*FNR (that is, choose meaningful values of a and b) for the cancer dataset, assuming you are an insurance company that has to pay medical costs of treatment and also life insurance at death for each patient.  Given that cost function, use the ROC in the traditional manner (not Jarvis's new way) to identify the optimal choice of threshold τ for each of the three classifiers in part 2."
   ]
  },
  {
   "cell_type": "markdown",
   "metadata": {},
   "source": [
    "We would want constant a to outweigh b significantly. A false positive isn't that big of a deal, and a biopsy would be way cheaper than treating late-diagnosed cancer or funeral costs. There really are just very few scenerios where it would make more financial sense to get a false negative and postpone treatment. Choose a=.9 and b=.1"
   ]
  },
  {
   "cell_type": "code",
   "execution_count": null,
   "metadata": {
    "collapsed": true
   },
   "outputs": [],
   "source": []
  }
 ],
 "metadata": {
  "kernelspec": {
   "display_name": "Python 3",
   "language": "python",
   "name": "python3"
  },
  "language_info": {
   "codemirror_mode": {
    "name": "ipython",
    "version": 3
   },
   "file_extension": ".py",
   "mimetype": "text/x-python",
   "name": "python",
   "nbconvert_exporter": "python",
   "pygments_lexer": "ipython3",
   "version": "3.6.4"
  }
 },
 "nbformat": 4,
 "nbformat_minor": 2
}
