{
 "cells": [
  {
   "cell_type": "code",
   "execution_count": 172,
   "metadata": {
    "collapsed": true
   },
   "outputs": [],
   "source": [
    "import numpy as np\n",
    "from sklearn import datasets\n",
    "import time\n",
    "from sklearn.naive_bayes import GaussianNB\n",
    "from sklearn.model_selection import train_test_split"
   ]
  },
  {
   "cell_type": "markdown",
   "metadata": {},
   "source": [
    "# Problem 1\n",
    "Write a binary naive Bayes classifier from scratch to classify data that has normally distributed features ($x$) and binary outputs ($y$). Take care to prevent underflow in the very tiny products that occur in the intermediate computations."
   ]
  },
  {
   "cell_type": "code",
   "execution_count": 156,
   "metadata": {},
   "outputs": [],
   "source": [
    "def bayes_fit(x,y):\n",
    "    separate=[]\n",
    "    for c in np.unique(y):\n",
    "        separate.append([i for i, j in zip(x,y) if j==c])\n",
    "    data = np.array([np.c_[np.mean(i, axis=0), np.std(i, axis=0)] for i in separate])\n",
    "    return data\n",
    "\n",
    "def logexp(x, mean, var):\n",
    "    return np.log((np.e**(-(x-mean)**2/(2*var)))/np.sqrt(2*np.pi*var))\n",
    "\n",
    "def bayes_predict(x, y, data):\n",
    "    temp=[]\n",
    "    for i in x:\n",
    "        mini_temp=[]\n",
    "        for j in data:\n",
    "            mini_temp.append(sum(logexp(j,*k) for k, j in zip(j,i)))\n",
    "        temp.append(mini_temp)\n",
    "    return np.argmax(temp, axis=1)"
   ]
  },
  {
   "cell_type": "markdown",
   "metadata": {},
   "source": [
    "# Problem 2\n",
    "Apply your classifier to the `scikit-learn` cancer data set with a 70-30 train-test split."
   ]
  },
  {
   "cell_type": "code",
   "execution_count": 187,
   "metadata": {},
   "outputs": [],
   "source": [
    "cancer = datasets.load_breast_cancer()\n",
    "Xtrain, Xtest, ytrain, ytest = train_test_split(cancer.data, cancer.target, test_size=.3)"
   ]
  },
  {
   "cell_type": "code",
   "execution_count": 188,
   "metadata": {},
   "outputs": [
    {
     "name": "stdout",
     "output_type": "stream",
     "text": [
      "Score: 0.918128654971\n"
     ]
    },
    {
     "name": "stderr",
     "output_type": "stream",
     "text": [
      "/Users/alexandragreenwood/anaconda3/lib/python3.6/site-packages/ipykernel_launcher.py:9: RuntimeWarning: divide by zero encountered in log\n",
      "  if __name__ == '__main__':\n"
     ]
    }
   ],
   "source": [
    "data = bayes_fit(Xtrain,ytrain)\n",
    "pred = bayes_predict(Xtest,ytest,data)\n",
    "print(\"Score:\",sum(pred==ytest)/len(ytest))"
   ]
  },
  {
   "cell_type": "markdown",
   "metadata": {},
   "source": [
    "# Problem 3\n",
    "Compare your results (training time and test accuracy) to the `scikit-learn` naive bayes classifier."
   ]
  },
  {
   "cell_type": "code",
   "execution_count": 184,
   "metadata": {},
   "outputs": [
    {
     "name": "stdout",
     "output_type": "stream",
     "text": [
      "sklearn time: 0.0021059513092041016\n",
      "sklearn score: 0.93567251462\n"
     ]
    }
   ],
   "source": [
    "Xtrain, Xtest, ytrain, ytest = train_test_split(cancer.data, cancer.target, test_size=.3)\n",
    "start=time.time()\n",
    "model = GaussianNB()\n",
    "model.fit(Xtrain,ytrain)\n",
    "print(\"sklearn time:\", time.time()-start)\n",
    "print(\"sklearn score:\",model.score(Xtest, ytest))"
   ]
  },
  {
   "cell_type": "code",
   "execution_count": 185,
   "metadata": {},
   "outputs": [
    {
     "name": "stdout",
     "output_type": "stream",
     "text": [
      "Home brewed time: 0.09189772605895996\n",
      "Home brewed accuracy: 0.912280701754\n"
     ]
    },
    {
     "name": "stderr",
     "output_type": "stream",
     "text": [
      "/Users/alexandragreenwood/anaconda3/lib/python3.6/site-packages/ipykernel_launcher.py:9: RuntimeWarning: divide by zero encountered in log\n",
      "  if __name__ == '__main__':\n"
     ]
    }
   ],
   "source": [
    "start=time.time()\n",
    "data = bayes_fit(Xtrain,ytrain)\n",
    "pred = bayes_predict(Xtest,ytest,data)\n",
    "print(\"Home brewed time:\",time.time()-start)\n",
    "print(\"Home brewed accuracy:\",sum(pred==ytest)/len(ytest))"
   ]
  },
  {
   "cell_type": "code",
   "execution_count": null,
   "metadata": {
    "collapsed": true
   },
   "outputs": [],
   "source": []
  }
 ],
 "metadata": {
  "kernelspec": {
   "display_name": "Python 3",
   "language": "python",
   "name": "python3"
  },
  "language_info": {
   "codemirror_mode": {
    "name": "ipython",
    "version": 3
   },
   "file_extension": ".py",
   "mimetype": "text/x-python",
   "name": "python",
   "nbconvert_exporter": "python",
   "pygments_lexer": "ipython3",
   "version": "3.6.1"
  }
 },
 "nbformat": 4,
 "nbformat_minor": 2
}
