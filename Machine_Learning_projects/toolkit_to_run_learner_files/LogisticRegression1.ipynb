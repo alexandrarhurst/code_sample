{
 "cells": [
  {
   "cell_type": "code",
   "execution_count": 10,
   "metadata": {},
   "outputs": [
    {
     "name": "stderr",
     "output_type": "stream",
     "text": [
      "/Users/alexandragreenwood/anaconda3/lib/python3.6/site-packages/statsmodels/compat/pandas.py:56: FutureWarning: The pandas.core.datetools module is deprecated and will be removed in a future version. Please use the pandas.tseries module instead.\n",
      "  from pandas.core import datetools\n"
     ]
    }
   ],
   "source": [
    "import numpy as np\n",
    "import pandas as pd\n",
    "import statsmodels.api as sm\n",
    "import statsmodels.formula.api as smf"
   ]
  },
  {
   "cell_type": "markdown",
   "metadata": {},
   "source": [
    "### Problem 3"
   ]
  },
  {
   "cell_type": "markdown",
   "metadata": {},
   "source": [
    "### This is done using the kaggle version of the titanic dataset since it didn't specify.\n",
    "\n",
    "Using the titanic dataset:\n",
    "\n",
    "(a) Create dummy variables for city of departure and run a logistic regression\n",
    "for survival on binaries for these cities (remember to leave\n",
    "one out so your X matrix is nonsingular). Which variables are statistically\n",
    "significant? (You may want to use pd.get_dummies() and\n",
    "statsmodels.formula.api.Logit(). A reference for statsmodels\n",
    "can be found at http://www.statsmodels.org/dev/index.html)\n",
    "Hint: The p-values and syntax for a logistic regression are essentially\n",
    "the same as a regular regression, just for a binary response variable.\n",
    "\n",
    "(b) Create binary indicators for gender and passenger class. Include\n",
    "these, as well as age and passenger fare, to your model. Now which\n",
    "models are statistically significant?\n",
    "\n",
    "(c) Based on your analysis, did the city of departure actually influence\n",
    "survival on the Titanic? Justify your answer."
   ]
  },
  {
   "cell_type": "code",
   "execution_count": 51,
   "metadata": {},
   "outputs": [],
   "source": [
    "test = pd.read_csv('test.csv')\n",
    "train = pd.read_csv('train.csv')\n",
    "train_survived = np.asarray(train.Survived)\n",
    "train['survived'] = train_survived\n",
    "test = test.set_index(test['PassengerId'])\n",
    "key = np.asarray(test.PassengerId)\n",
    "train=train.drop(train[train['Embarked']=='Q'].index)"
   ]
  },
  {
   "cell_type": "code",
   "execution_count": 55,
   "metadata": {},
   "outputs": [
    {
     "name": "stdout",
     "output_type": "stream",
     "text": [
      "Optimization terminated successfully.\n",
      "         Current function value: 0.641642\n",
      "         Iterations 5\n",
      "                           Logit Regression Results                           \n",
      "==============================================================================\n",
      "Dep. Variable:               survived   No. Observations:                  814\n",
      "Model:                          Logit   Df Residuals:                      810\n",
      "Method:                           MLE   Df Model:                            3\n",
      "Date:                Tue, 16 Jan 2018   Pseudo R-squ.:                 0.03607\n",
      "Time:                        18:59:49   Log-Likelihood:                -522.30\n",
      "converged:                       True   LL-Null:                       -541.84\n",
      "                                        LLR p-value:                 1.661e-08\n",
      "==============================================================================\n",
      "                 coef    std err          z      P>|z|      [0.025      0.975]\n",
      "------------------------------------------------------------------------------\n",
      "Intercept     -0.7381      0.096     -7.715      0.000      -0.926      -0.551\n",
      "SibSp         -0.1509      0.077     -1.949      0.051      -0.303       0.001\n",
      "Parch          0.3614      0.101      3.576      0.000       0.163       0.559\n",
      "binaries       0.8851      0.178      4.981      0.000       0.537       1.233\n",
      "==============================================================================\n"
     ]
    }
   ],
   "source": [
    "departure = pd.get_dummies(train['Embarked'])\n",
    "train['binaries'] = departure['C']\n",
    "dep_logit = smf.logit(formula = 'survived ~ SibSp + Parch + binaries', data = train).fit()\n",
    "print(dep_logit.summary())"
   ]
  },
  {
   "cell_type": "markdown",
   "metadata": {},
   "source": [
    "#### 3a\n",
    "People from location point C seem disproportionately likely to survive. Embarkation seems to be the most significant variable, which could be because it's related to ticket class."
   ]
  },
  {
   "cell_type": "code",
   "execution_count": 66,
   "metadata": {},
   "outputs": [],
   "source": [
    "gender = pd.get_dummies(train['Sex'])\n",
    "train['gender_binary']=gender['male']\n",
    "classs = pd.get_dummies(train['Pclass'])\n",
    "train['class_binary']=classs[1]\n",
    "train=train.drop(train[train['Pclass']==3].index)"
   ]
  },
  {
   "cell_type": "code",
   "execution_count": 65,
   "metadata": {},
   "outputs": [
    {
     "name": "stdout",
     "output_type": "stream",
     "text": [
      "Optimization terminated successfully.\n",
      "         Current function value: 0.373175\n",
      "         Iterations 7\n",
      "                           Logit Regression Results                           \n",
      "==============================================================================\n",
      "Dep. Variable:               survived   No. Observations:                  355\n",
      "Model:                          Logit   Df Residuals:                      347\n",
      "Method:                           MLE   Df Model:                            7\n",
      "Date:                Tue, 16 Jan 2018   Pseudo R-squ.:                  0.4535\n",
      "Time:                        19:03:24   Log-Likelihood:                -132.48\n",
      "converged:                       True   LL-Null:                       -242.39\n",
      "                                        LLR p-value:                 7.176e-44\n",
      "=================================================================================\n",
      "                    coef    std err          z      P>|z|      [0.025      0.975]\n",
      "---------------------------------------------------------------------------------\n",
      "Intercept         3.5517      0.582      6.103      0.000       2.411       4.692\n",
      "SibSp             0.1590      0.277      0.574      0.566      -0.384       0.702\n",
      "Parch             0.1578      0.251      0.628      0.530      -0.334       0.650\n",
      "binaries          0.2209      0.393      0.562      0.574      -0.549       0.991\n",
      "Age              -0.0458      0.012     -3.837      0.000      -0.069      -0.022\n",
      "Fare             -0.0008      0.003     -0.305      0.761      -0.006       0.005\n",
      "gender_binary    -4.0609      0.426     -9.530      0.000      -4.896      -3.226\n",
      "class_binary      1.7712      0.409      4.330      0.000       0.969       2.573\n",
      "=================================================================================\n"
     ]
    }
   ],
   "source": [
    "dep_logit = smf.logit(formula = 'survived ~ SibSp + Parch + binaries + Age + Fare + gender_binary + class_binary', data = train).fit()\n",
    "print(dep_logit.summary())"
   ]
  },
  {
   "cell_type": "markdown",
   "metadata": {},
   "source": [
    "#### 3b\n",
    "gender, class, and embarkation point are the most significant (in that order).\n",
    "#### 3c\n",
    "Embarkation point did not actually influence survival likelihood. Embarkation seems to be strongly corelated with class, which is actually very significant."
   ]
  },
  {
   "cell_type": "code",
   "execution_count": null,
   "metadata": {
    "collapsed": true
   },
   "outputs": [],
   "source": []
  }
 ],
 "metadata": {
  "kernelspec": {
   "display_name": "Python 3",
   "language": "python",
   "name": "python3"
  },
  "language_info": {
   "codemirror_mode": {
    "name": "ipython",
    "version": 3
   },
   "file_extension": ".py",
   "mimetype": "text/x-python",
   "name": "python",
   "nbconvert_exporter": "python",
   "pygments_lexer": "ipython3",
   "version": "3.6.1"
  }
 },
 "nbformat": 4,
 "nbformat_minor": 2
}
