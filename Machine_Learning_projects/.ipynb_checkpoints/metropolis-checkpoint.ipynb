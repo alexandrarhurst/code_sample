{
 "cells": [
  {
   "cell_type": "markdown",
   "metadata": {},
   "source": [
    "# Metropolis Solutions.\n",
    "Homework assignment for implementing Ising Metropolis Algorithm"
   ]
  },
  {
   "cell_type": "code",
   "execution_count": 1,
   "metadata": {
    "collapsed": true
   },
   "outputs": [],
   "source": [
    "import numpy as np\n",
    "from scipy import stats\n",
    "from matplotlib import pyplot as plt"
   ]
  },
  {
   "cell_type": "markdown",
   "metadata": {},
   "source": [
    "## Problem 1\n",
    "\n",
    "Write a function that accepts an integer $n$ and returns a random spin configuration for an $n \\times n$ lattice (as an $n \\times n$ NumPy array of $1$s and $-1$s).\n",
    "Test your function with $n = 100$, plotting the spin configuration via `plt.imshow()`."
   ]
  },
  {
   "cell_type": "code",
   "execution_count": 2,
   "metadata": {
    "collapsed": true
   },
   "outputs": [],
   "source": [
    "def random_lattice(n):\n",
    "    \"\"\"Construct a random spin configuration for an nxn lattice.\"\"\"\n",
    "    state=2*np.random.randint(2,size=(n,n))-1\n",
    "    return state"
   ]
  },
  {
   "cell_type": "code",
   "execution_count": 3,
   "metadata": {},
   "outputs": [
    {
     "data": {
      "image/png": "[encoded data removed]",
      "text/plain": [
       "<matplotlib.figure.Figure at 0x117d81518>"
      ]
     },
     "metadata": {},
     "output_type": "display_data"
    }
   ],
   "source": [
    "fxn=random_lattice(100)\n",
    "plt.imshow(fxn,cmap='gray')\n",
    "plt.show()"
   ]
  },
  {
   "cell_type": "markdown",
   "metadata": {},
   "source": [
    "## Problem 2\n",
    "\n",
    "Write a function that accepts a spin configuration $\\sigma$ for a lattice as a NumPy array.\n",
    "Compute the energy $H(\\sigma)$ of the spin configuration.\n",
    "Be careful to not double count site pair interactions!"
   ]
  },
  {
   "cell_type": "code",
   "execution_count": 4,
   "metadata": {
    "collapsed": true
   },
   "outputs": [],
   "source": [
    "def lattice_energy(L):\n",
    "    \"\"\"Computer the energy of the spin configuration corresponding to the\n",
    "    lattice L.\n",
    "    \"\"\"\n",
    "    energy=0\n",
    "    n=len(L)\n",
    "    for i in range(n):\n",
    "        for j in range(n):\n",
    "            energy-=L[i,j]*(L[(i+1)%n,j]+L[(i-1)%n,j]+L[i,(j+1)%n]+L[i,(j-1)%n])\n",
    "    return energy/4#to eliminate double counts"
   ]
  },
  {
   "cell_type": "markdown",
   "metadata": {},
   "source": [
    "## Problem 3\n",
    "\n",
    "Write a function that accepts an integer $n$ and chooses a pair of indices $(i,j)$ where $0 \\le i,j \\le n-1$.\n",
    "Each possible pair should have an equal probability $\\frac{1}{n^2}$ of being chosen."
   ]
  },
  {
   "cell_type": "code",
   "execution_count": 5,
   "metadata": {
    "collapsed": true
   },
   "outputs": [],
   "source": [
    "def flip_location(n):\n",
    "    \"\"\"Choose a random pair of indices 0 <= i,j <= n-1.\"\"\"\n",
    "    i=np.random.randint(0,high=n)\n",
    "    j=np.random.randint(0,high=n)\n",
    "    return i, j"
   ]
  },
  {
   "cell_type": "markdown",
   "metadata": {},
   "source": [
    "## Problem 4\n",
    "\n",
    "Write a function that accepts a spin configuration $\\sigma$, its energy $H(\\sigma)$, and integer indices $i$ and $j$.\n",
    "Compute the energy of the new spin configuration $\\sigma^*$, which is $\\sigma$ but with the spin flipped at the $(i,j)$th entry of the corresponding lattice.\n",
    "Do not explicitly construct the new lattice for $\\sigma^*$."
   ]
  },
  {
   "cell_type": "code",
   "execution_count": 6,
   "metadata": {
    "collapsed": true
   },
   "outputs": [],
   "source": [
    "def updated_energy(L, L_energy, i, j):\n",
    "    \"\"\"Compute the energy of the spin configuration that results\n",
    "    when the (i,j)th spin of L is flipped.\n",
    "    \"\"\"\n",
    "    n=len(L)\n",
    "    flip=L[i,j]*(L[(i+1)%n,j]+L[(i-1)%n,j]+L[i,(j+1)%n]+L[i,(j-1)%n])\n",
    "    return L_energy+2*flip"
   ]
  },
  {
   "cell_type": "markdown",
   "metadata": {},
   "source": [
    "## Problem 5\n",
    "\n",
    "Write a function that accepts a float $\\beta$ and spin configuration energies $H(\\sigma)$ and $H(\\sigma^*)$.\n",
    "Calculate whether or not the new spin configuration $\\sigma^*$ should be accepted (return `True` or `False`)."
   ]
  },
  {
   "cell_type": "code",
   "execution_count": 7,
   "metadata": {
    "collapsed": true
   },
   "outputs": [],
   "source": [
    "def accept(beta, energy_old, energy_new):\n",
    "    \"\"\"Accept or reject the new spin configuration.\"\"\"\n",
    "    if energy_new<energy_old:\n",
    "        return True\n",
    "    elif np.random.random()<np.e**(beta*(energy_old-energy_new)):\n",
    "        return True\n",
    "    return False"
   ]
  },
  {
   "cell_type": "markdown",
   "metadata": {},
   "source": [
    "## Problem 6\n",
    "\n",
    "Write a function that accepts a float $\\beta>0$ and integers $n$, `n_samples`, and `burn_in`.\n",
    "Initialize an $n\\times n$ lattice for a spin configuration $\\sigma$ using `random_lattice()`.\n",
    "Use the Metropolis algorithm to (potentially) update the lattice `burn_in` times.\n",
    "1. Use `flip_location()` to choose a site for possibly flipping the spin, thus defining a potential new configuration $\\sigma^*$.\n",
    "2. Use `updated_energy()` to calculate the energy $H(\\sigma^*)$ of the proposed configuration.\n",
    "3. Use `accept()` to accept or reject the proposed configuration. If it is accepted, set $\\sigma = \\sigma^*$ by flipping the spin at the indicated site.\n",
    "4. Track $-\\beta H(\\sigma)$ at each iteration (independent of acceptance).\n",
    "\n",
    "After the burn-in period, continue the iteration `n_samples` times, also recording every $100$th sample (to prevent memory failure).\n",
    "Return the samples, the sequence of weighted energies $-\\beta H(\\sigma)$, and the acceptance rate.\n",
    "\n",
    "Test your sampler on a $100 \\times 100$ grid with $200000$ total iterations, with `n_samples` large enough so that you will keep $50$ samples, for $\\beta = 0.2, 0.4, 1$.\n",
    "Plot the proportional log probabilities, as well as a late sample from each test.\n"
   ]
  },
  {
   "cell_type": "code",
   "execution_count": 10,
   "metadata": {
    "collapsed": true
   },
   "outputs": [],
   "source": [
    "def ising_metropolis(beta, n=100, n_samples=5000, burn_in=195000):\n",
    "    \"\"\"Use the Metropolis algorithm to choose new spin configurations.\n",
    "\n",
    "    Parameters:\n",
    "        beta (float > 0): Constant inversely proportional to the temperature.\n",
    "        N (int > 0): The size of the lattice.\n",
    "        n_samples (int): The number of samples to generate.\n",
    "        burnin (int): The number of iterations to burn before sampling.\n",
    "\n",
    "    Returns:\n",
    "        ((n_samples//100, n,n) ndarray): The sampled spin configurations.\n",
    "        (n_samples) ndarray: The weighted energies of each configuration.\n",
    "        (float): The proportion of proposed samples that were accepted.\n",
    "    \"\"\"\n",
    "    #Initialize lattice\n",
    "    L=random_lattice(n)\n",
    "    #list to sample lattices \n",
    "    sample=[]\n",
    "    #list to track beta energy\n",
    "    beta_energy=[]\n",
    "    accepted=0\n",
    "    L_energy=lattice_energy(L)\n",
    "    #burn in \n",
    "    for _ in range(burn_in):\n",
    "        i,j=flip_location(n)\n",
    "        L_star_energy=updated_energy(L, L_energy, i, j)\n",
    "        acc=accept(beta, L_energy, L_star_energy)\n",
    "        if acc==True:\n",
    "            L[i,j]=-1*L[i,j]\n",
    "            L_energy=L_star_energy\n",
    "            accepted+=1\n",
    "        beta_energy.append(-beta*L_energy)\n",
    "    #actual stuff\n",
    "    for i in range(n_samples):\n",
    "        i,j=flip_location(n)\n",
    "        L_star_energy=updated_energy(L, L_energy, i, j)\n",
    "        acc=accept(beta, L_energy, L_star_energy)\n",
    "        if acc==True:\n",
    "            L[i,j]=-1*L[i,j]\n",
    "            L_energy=L_star_energy\n",
    "            accepted+=1\n",
    "        beta_energy.append(-beta*L_energy)\n",
    "        if i%100==0:\n",
    "            sample.append(L)\n",
    "    return L, beta_energy, accepted/(n_samples+burn_in)"
   ]
  },
  {
   "cell_type": "code",
   "execution_count": 12,
   "metadata": {},
   "outputs": [
    {
     "data": {
      "image/png": "[encoded data removed]",
      "text/plain": [
       "<matplotlib.figure.Figure at 0x11b0ecf98>"
      ]
     },
     "metadata": {},
     "output_type": "display_data"
    },
    {
     "data": {
      "image/png": "[encoded data removed]",
      "text/plain": [
       "<matplotlib.figure.Figure at 0x11c1575c0>"
      ]
     },
     "metadata": {},
     "output_type": "display_data"
    },
    {
     "data": {
      "image/png": "[encoded data removed]",
      "text/plain": [
       "<matplotlib.figure.Figure at 0x11b29c5f8>"
      ]
     },
     "metadata": {},
     "output_type": "display_data"
    }
   ],
   "source": [
    "for b in [.2,.4,1]:\n",
    "    L, beta, acc = ising_metropolis(b)\n",
    "    #print(acc)\n",
    "    plt.subplot(121)\n",
    "    plt.semilogy(beta)\n",
    "    plt.subplot(122)\n",
    "    plt.imshow(L,cmap=\"gray\")\n",
    "    plt.show()"
   ]
  },
  {
   "cell_type": "code",
   "execution_count": null,
   "metadata": {
    "collapsed": true
   },
   "outputs": [],
   "source": []
  }
 ],
 "metadata": {
  "kernelspec": {
   "display_name": "Python 3",
   "language": "python",
   "name": "python3"
  },
  "language_info": {
   "codemirror_mode": {
    "name": "ipython",
    "version": 3
   },
   "file_extension": ".py",
   "mimetype": "text/x-python",
   "name": "python",
   "nbconvert_exporter": "python",
   "pygments_lexer": "ipython3",
   "version": "3.6.4"
  }
 },
 "nbformat": 4,
 "nbformat_minor": 2
}
